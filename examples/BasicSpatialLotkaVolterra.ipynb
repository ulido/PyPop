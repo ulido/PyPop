{
 "cells": [
  {
   "cell_type": "markdown",
   "metadata": {},
   "source": [
    "# Basic Spatially-Extended Stochastic Lotka-Volterra Model"
   ]
  },
  {
   "cell_type": "markdown",
   "metadata": {},
   "source": [
    "In this first example, we want to focus only on a simple non-spatial system. In essence, this is equivalent to a lattice with only a single, isolated lattice site."
   ]
  },
  {
   "cell_type": "markdown",
   "metadata": {},
   "source": [
    "We need to install the python packages we need to run the simulations:"
   ]
  },
  {
   "cell_type": "code",
   "execution_count": null,
   "metadata": {},
   "outputs": [],
   "source": [
    "%pip install git+https://github.com/ulido/pypop matplotlib numpy pandas ipywidgets"
   ]
  },
  {
   "cell_type": "markdown",
   "metadata": {},
   "source": [
    "To start, we need to load the `pypop` library. We only load what we need so not to clutter our environment."
   ]
  },
  {
   "cell_type": "code",
   "execution_count": null,
   "metadata": {},
   "outputs": [],
   "source": [
    "from pypop import World, Species, BirthReaction, DeathReaction, PredationBirthReaction, Hop"
   ]
  },
  {
   "cell_type": "markdown",
   "metadata": {},
   "source": [
    "Next, we construct the world. This involves setting up the species (the predator A and the prey B) and the reactions (B can give birth, A can die and predate upon B). The following are the parameters of the simulation:\n",
    "* `size`: This is the size of the 2D lattice and is specified as a tuple of two integers (the width and the height) like so `(256, 256)`. It is a good idea to start small since larger lattices take more memory and more computational time to simulate.\n",
    "* `sigma`: This is the prey (species \"B\") birth rate. It regulates how quickly prey will reproduce.\n",
    "* `mu`: This is the predator (species \"A\") death rate. It regulates how quickly predators are removed from the system.\n",
    "* `lam`: This is the predation rate. It regulates how efficiently predators (species \"A\") consume prey (species \"B\") and reproduce at the same time.\n",
    "* `hA` and `hB`: This is the hop rate, which in typically is left at a value of `1` since this will only rescale time. It could be varied for each species separately, such that prey e.g. more static than predators or vice-versa.\n",
    "* `rhoA` and `rhoB`: This is the initial density of the predators (species \"A\") and prey (species \"B\"). It specifies how many occupants of each species will be present on each lattice site on average.\n",
    "* `T`: Specifies the end time of the simulation, i.e. how many Monte Carlo steps will be performed."
   ]
  },
  {
   "cell_type": "code",
   "execution_count": null,
   "metadata": {},
   "outputs": [],
   "source": [
    "# The simulation parameters\n",
    "size = (100, 100)\n",
    "sigma: float = 0.1\n",
    "mu: float = 0.1\n",
    "lam: float = 0.1\n",
    "hA: float = 1.0\n",
    "hB: float = 1.0\n",
    "rhoA: float = 0.01\n",
    "rhoB: float = 1.0\n",
    "T: int = 1000\n",
    "\n",
    "# Predator and prey species\n",
    "A = Species(\"A\")\n",
    "B = Species(\"B\")\n",
    "\n",
    "# The reactions\n",
    "reactions = {\n",
    "    A: [\n",
    "        PredationBirthReaction(A, B, lam),\n",
    "        DeathReaction(A, mu),\n",
    "    ],\n",
    "    B: [\n",
    "        BirthReaction(B, sigma),\n",
    "    ]\n",
    "}\n",
    "\n",
    "world = World(\n",
    "    size=size,\n",
    "    initial_densities={B: rhoB, A: rhoA},\n",
    "    hops={A: Hop(A, hA), B: Hop(B, hB)},\n",
    "    reactions=reactions,\n",
    ")"
   ]
  },
  {
   "cell_type": "code",
   "execution_count": null,
   "metadata": {},
   "outputs": [],
   "source": [
    "from tqdm.auto import tqdm\n",
    "numbers = []\n",
    "for _ in tqdm(range(T), smoothing=0):\n",
    "    world.step()\n",
    "    numbers.append(world.asarrays())"
   ]
  },
  {
   "cell_type": "code",
   "execution_count": null,
   "metadata": {},
   "outputs": [],
   "source": [
    "%matplotlib inline\n",
    "import matplotlib.pyplot as plt\n",
    "import pandas as pd\n",
    "\n",
    "N = size[0] * size[1]\n",
    "df = pd.DataFrame([{species: arr.sum()/N for species, arr in entry.items()} for entry in numbers])\n",
    "\n",
    "fig, ax = plt.subplots(1, 1, figsize=(5, 4), dpi=150)\n",
    "ax.plot(df.A, color=\"red\", label=\"A\")\n",
    "ax.plot(df.B, color=\"blue\", label=\"B\")\n",
    "ax.set_yscale(\"log\", base=10)\n",
    "ax.set_ylabel(\"Species density [occupants/site]\")\n",
    "ax.set_xlabel(\"Time [MC steps]\")\n"
   ]
  },
  {
   "cell_type": "code",
   "execution_count": null,
   "metadata": {},
   "outputs": [],
   "source": [
    "from ipywidgets import interact\n",
    "import numpy as np\n",
    "from IPython.display import display\n",
    "\n",
    "fig = plt.Figure(figsize=(8, 4), dpi=150)\n",
    "ax = fig.add_axes([0, 0, 0.5, 1])\n",
    "plot = fig.add_axes([0.6, 0.1, 0.4, 0.8])\n",
    "\n",
    "plot.plot(df.A, color=\"red\", label=\"A\")\n",
    "plot.plot(df.B, color=\"blue\", label=\"B\")\n",
    "plot.set_yscale(\"log\", base=10)\n",
    "plot.set_ylabel(\"Species density [occupants/site]\")\n",
    "plot.set_xlabel(\"Time [MC steps]\")\n",
    "\n",
    "mappable = None\n",
    "vline = None\n",
    "def show_image(MC_step=0):\n",
    "    global mappable, vline\n",
    "    arrays = numbers[MC_step]\n",
    "    image = np.zeros((size[0], size[1], 3), dtype=np.uint8)\n",
    "    image[:, :, 0] = 255*(arrays[\"A\"] > 0)\n",
    "    image[:, :, 2] = 255*(arrays[\"B\"] > 0)\n",
    "    if mappable is None:\n",
    "        mappable = ax.imshow(image)\n",
    "        vline = plot.axvline(0, color=\"black\")\n",
    "    else:\n",
    "        mappable.set_data(image)\n",
    "        vline.set_xdata([MC_step])\n",
    "    display(fig)\n",
    "\n",
    "ax.axis('off')\n",
    "interact(show_image, MC_step=(0, len(numbers)-1))\n",
    "None"
   ]
  }
 ],
 "metadata": {
  "kernelspec": {
   "display_name": ".venv",
   "language": "python",
   "name": "python3"
  },
  "language_info": {
   "codemirror_mode": {
    "name": "ipython",
    "version": 3
   },
   "file_extension": ".py",
   "mimetype": "text/x-python",
   "name": "python",
   "nbconvert_exporter": "python",
   "pygments_lexer": "ipython3",
   "version": "3.11.4"
  },
  "orig_nbformat": 4
 },
 "nbformat": 4,
 "nbformat_minor": 2
}
